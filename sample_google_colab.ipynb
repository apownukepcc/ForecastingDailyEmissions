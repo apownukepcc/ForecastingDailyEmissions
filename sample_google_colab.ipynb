{
 "cells": [
  {
   "cell_type": "markdown",
   "metadata": {},
   "source": [
    "# Plotting the Graph of y = x²\n",
    "\n",
    "In this notebook, we will plot the graph of the function $y = x^2$. This is a simple example to demonstrate graphing in Python using matplotlib."
   ]
  },
  {
   "cell_type": "code",
   "execution_count": null,
   "metadata": {
    "colab": {
     "base_uri": "",
     "height": 400
    },
    "id": "code1"
   },
   "outputs": [],
   "source": [
    "# Import necessary libraries\n",
    "import numpy as np  # For numerical operations\n",
    "import matplotlib.pyplot as plt  # For plotting graphs\n",
    "\n",
    "# Define the range of x values\n",
    "x = np.linspace(-10, 10, 500)  # 500 points between -10 and 10\n",
    "\n",
    "# Define the function y = x^2\n",
    "y = x**2\n",
    "\n",
    "# Plot the function\n",
    "plt.figure(figsize=(8, 6))  # Set the size of the plot\n",
    "plt.plot(x, y, label='$y = x^2$', color='blue')  # Plot the graph and add a label\n",
    "\n",
    "# Add title and labels\n",
    "plt.title('Graph of y = x^2', fontsize=16)\n",
    "plt.xlabel('x', fontsize=14)\n",
    "plt.ylabel('y', fontsize=14)\n",
    "\n",
    "# Add a grid for better visualization\n",
    "plt.grid(True, linestyle='--', alpha=0.7)\n",
    "\n",
    "# Add a legend\n",
    "plt.legend(fontsize=12)\n",
    "\n",
    "# Display the plot\n",
    "plt.show()\n"
   ]
  }
 ],
 "metadata": {
  "colab": {
   "collapsed_sections": [],
   "name": "y_x_squared_plot.ipynb"
  },
  "kernelspec": {
   "display_name": "Python 3",
   "language": "python",
   "name": "python3"
  },
  "language_info": {
   "codemirror_mode": {
    "name": "ipython",
    "version": 3
   },
   "file_extension": ".py",
   "mimetype": "text/x-python",
   "name": "python",
   "nbconvert_exporter": "python",
   "pygments_lexer": "ipython3",
   "version": "3.8.16"
  }
 },
 "nbformat": 4,
 "nbformat_minor": 0
}
